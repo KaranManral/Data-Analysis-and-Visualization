{
  "nbformat": 4,
  "nbformat_minor": 0,
  "metadata": {
    "colab": {
      "provenance": []
    },
    "kernelspec": {
      "name": "python3",
      "display_name": "Python 3"
    },
    "language_info": {
      "name": "python"
    }
  },
  "cells": [
    {
      "cell_type": "markdown",
      "source": [
        "#Ques 1"
      ],
      "metadata": {
        "id": "3BsWxkv4H9QK"
      }
    },
    {
      "cell_type": "code",
      "execution_count": null,
      "metadata": {
        "id": "9Lj8Ibn_H2Sm"
      },
      "outputs": [],
      "source": [
        "import pandas as pd\n",
        "import numpy as np"
      ]
    },
    {
      "cell_type": "code",
      "source": [
        "dict1={'Boys':[72,68,70,69,74],'Girls':[63,65,69,62,61]}"
      ],
      "metadata": {
        "id": "nNusd3BgICW1"
      },
      "execution_count": null,
      "outputs": []
    },
    {
      "cell_type": "code",
      "source": [
        "list1=[{'Boys':i,'Girls':j} for i,j in zip(dict1['Boys'],dict1['Girls'])]"
      ],
      "metadata": {
        "id": "JK1sbDMnJJCk"
      },
      "execution_count": null,
      "outputs": []
    },
    {
      "cell_type": "code",
      "source": [
        "list1"
      ],
      "metadata": {
        "colab": {
          "base_uri": "https://localhost:8080/"
        },
        "id": "L1JjPQREJMYw",
        "outputId": "97798c52-3ec6-4380-9a75-d23c6e865fee"
      },
      "execution_count": null,
      "outputs": [
        {
          "output_type": "execute_result",
          "data": {
            "text/plain": [
              "[{'Boys': 72, 'Girls': 63},\n",
              " {'Boys': 68, 'Girls': 65},\n",
              " {'Boys': 70, 'Girls': 69},\n",
              " {'Boys': 69, 'Girls': 62},\n",
              " {'Boys': 74, 'Girls': 61}]"
            ]
          },
          "metadata": {},
          "execution_count": 4
        }
      ]
    },
    {
      "cell_type": "code",
      "source": [],
      "metadata": {
        "id": "CCs6tJSBJP06"
      },
      "execution_count": null,
      "outputs": []
    }
  ]
}