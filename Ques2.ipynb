{
  "nbformat": 4,
  "nbformat_minor": 0,
  "metadata": {
    "colab": {
      "provenance": []
    },
    "kernelspec": {
      "name": "python3",
      "display_name": "Python 3"
    },
    "language_info": {
      "name": "python"
    }
  },
  "cells": [
    {
      "cell_type": "markdown",
      "source": [
        "#Ques2"
      ],
      "metadata": {
        "id": "J4zgmCSdJdcF"
      }
    },
    {
      "cell_type": "code",
      "source": [
        "import pandas as pd\n",
        "import numpy as np"
      ],
      "metadata": {
        "id": "U2sBHKyiJiXD"
      },
      "execution_count": null,
      "outputs": []
    },
    {
      "cell_type": "code",
      "execution_count": null,
      "metadata": {
        "id": "DXhXD_gQJa4W"
      },
      "outputs": [],
      "source": [
        "arr=np.random.randn(4,4)"
      ]
    },
    {
      "cell_type": "code",
      "source": [
        "arr"
      ],
      "metadata": {
        "colab": {
          "base_uri": "https://localhost:8080/"
        },
        "id": "rgjqQ4E_JhM7",
        "outputId": "6239f676-7f74-4eeb-d979-d328945269f0"
      },
      "execution_count": null,
      "outputs": [
        {
          "output_type": "execute_result",
          "data": {
            "text/plain": [
              "array([[ 0.31648622, -0.34301052,  0.56247247, -1.02168952],\n",
              "       [ 1.06610304, -0.13846309,  1.61226028, -0.59305668],\n",
              "       [ 0.07985729, -0.64066872, -1.28268706,  1.00430005],\n",
              "       [ 0.74652123, -0.70681079,  0.1888633 ,  0.91516686]])"
            ]
          },
          "metadata": {},
          "execution_count": 4
        }
      ]
    },
    {
      "cell_type": "code",
      "source": [
        "#Part-(a)\n",
        "arr.mean(axis=1)"
      ],
      "metadata": {
        "colab": {
          "base_uri": "https://localhost:8080/"
        },
        "id": "u7aHPl2nJpnl",
        "outputId": "c4eb83e4-8032-4cd6-bff7-900965ae7c85"
      },
      "execution_count": null,
      "outputs": [
        {
          "output_type": "execute_result",
          "data": {
            "text/plain": [
              "array([-0.12143534,  0.48671089, -0.20979961,  0.28593515])"
            ]
          },
          "metadata": {},
          "execution_count": 5
        }
      ]
    },
    {
      "cell_type": "code",
      "source": [
        "arr.std(axis=1)"
      ],
      "metadata": {
        "colab": {
          "base_uri": "https://localhost:8080/"
        },
        "id": "XGTmj8YBJtQc",
        "outputId": "3b7b1c38-35cc-4e40-e3f2-5b20e04f5bca"
      },
      "execution_count": null,
      "outputs": [
        {
          "output_type": "execute_result",
          "data": {
            "text/plain": [
              "array([0.61625043, 0.8887206 , 0.85068719, 0.63305598])"
            ]
          },
          "metadata": {},
          "execution_count": 6
        }
      ]
    },
    {
      "cell_type": "code",
      "source": [
        "arr.var(axis=1)"
      ],
      "metadata": {
        "colab": {
          "base_uri": "https://localhost:8080/"
        },
        "id": "zcq0fqzsJwgE",
        "outputId": "3d3826d7-5ed8-46bc-9697-1f80ea320b8f"
      },
      "execution_count": null,
      "outputs": [
        {
          "output_type": "execute_result",
          "data": {
            "text/plain": [
              "array([0.37976459, 0.7898243 , 0.72366869, 0.40075988])"
            ]
          },
          "metadata": {},
          "execution_count": 7
        }
      ]
    },
    {
      "cell_type": "code",
      "source": [
        "#Part-(b)\n",
        "B=[56,48,22,41,78,91,24,46,8,33]"
      ],
      "metadata": {
        "id": "2WWs7FttJzDs"
      },
      "execution_count": null,
      "outputs": []
    },
    {
      "cell_type": "code",
      "source": [
        "indices = np.argsort(B)"
      ],
      "metadata": {
        "id": "rLReGhCBJ1wA"
      },
      "execution_count": null,
      "outputs": []
    },
    {
      "cell_type": "code",
      "source": [
        "indices"
      ],
      "metadata": {
        "colab": {
          "base_uri": "https://localhost:8080/"
        },
        "id": "EsscsIhDJ4cF",
        "outputId": "17d075fa-5464-488b-d2bf-c38256484e58"
      },
      "execution_count": null,
      "outputs": [
        {
          "output_type": "execute_result",
          "data": {
            "text/plain": [
              "array([8, 2, 6, 9, 3, 7, 1, 0, 4, 5])"
            ]
          },
          "metadata": {},
          "execution_count": 10
        }
      ]
    },
    {
      "cell_type": "code",
      "source": [
        "#Part-(c)\n",
        "n=int(input(\"Enter value of n  \"))\n",
        "m=int(input(\"Enter value of m  \"))\n",
        "\n",
        "arr=np.random.randint(0,10,size=(m,n))\n",
        "arr"
      ],
      "metadata": {
        "colab": {
          "base_uri": "https://localhost:8080/"
        },
        "id": "8lLTd2K_J7rN",
        "outputId": "30031882-8431-416a-945b-6dfdc3f6e0f3"
      },
      "execution_count": null,
      "outputs": [
        {
          "name": "stdout",
          "output_type": "stream",
          "text": [
            "Enter value of n  4\n",
            "Enter value of m  5\n"
          ]
        },
        {
          "output_type": "execute_result",
          "data": {
            "text/plain": [
              "array([[3, 8, 8, 6],\n",
              "       [9, 1, 8, 1],\n",
              "       [1, 1, 0, 7],\n",
              "       [2, 1, 6, 1],\n",
              "       [8, 4, 0, 3]])"
            ]
          },
          "metadata": {},
          "execution_count": 11
        }
      ]
    },
    {
      "cell_type": "code",
      "source": [
        "arr.shape"
      ],
      "metadata": {
        "colab": {
          "base_uri": "https://localhost:8080/"
        },
        "id": "XMChmldRKCwJ",
        "outputId": "704a3d6b-2f6e-41de-fd71-ad1f21fb034f"
      },
      "execution_count": null,
      "outputs": [
        {
          "output_type": "execute_result",
          "data": {
            "text/plain": [
              "(5, 4)"
            ]
          },
          "metadata": {},
          "execution_count": 12
        }
      ]
    },
    {
      "cell_type": "code",
      "source": [
        "arr.dtype"
      ],
      "metadata": {
        "colab": {
          "base_uri": "https://localhost:8080/"
        },
        "id": "-KevRyK-KTFM",
        "outputId": "aff39c1d-aca2-43eb-bb2e-643356b62276"
      },
      "execution_count": null,
      "outputs": [
        {
          "output_type": "execute_result",
          "data": {
            "text/plain": [
              "dtype('int64')"
            ]
          },
          "metadata": {},
          "execution_count": 13
        }
      ]
    },
    {
      "cell_type": "code",
      "source": [
        "type(arr)"
      ],
      "metadata": {
        "colab": {
          "base_uri": "https://localhost:8080/"
        },
        "id": "U48Z9WEdKVBt",
        "outputId": "4d439144-84f6-4bb5-c495-4501e2b04f39"
      },
      "execution_count": null,
      "outputs": [
        {
          "output_type": "execute_result",
          "data": {
            "text/plain": [
              "numpy.ndarray"
            ]
          },
          "metadata": {},
          "execution_count": 14
        }
      ]
    },
    {
      "cell_type": "code",
      "source": [
        "arr.reshape(n,m)"
      ],
      "metadata": {
        "colab": {
          "base_uri": "https://localhost:8080/"
        },
        "id": "48SjPSVyKXM5",
        "outputId": "8461d373-667e-4dfc-e5a5-20acd86f2cff"
      },
      "execution_count": null,
      "outputs": [
        {
          "output_type": "execute_result",
          "data": {
            "text/plain": [
              "array([[3, 8, 8, 6, 9],\n",
              "       [1, 8, 1, 1, 1],\n",
              "       [0, 7, 2, 1, 6],\n",
              "       [1, 8, 4, 0, 3]])"
            ]
          },
          "metadata": {},
          "execution_count": 15
        }
      ]
    },
    {
      "cell_type": "code",
      "source": [
        "#Part-(d)\n",
        "zero=np.array(np.argwhere(arr==0))\n",
        "zero"
      ],
      "metadata": {
        "colab": {
          "base_uri": "https://localhost:8080/"
        },
        "id": "ljqsaENsKZGZ",
        "outputId": "5a59e27a-3810-46b5-c2b3-8610450403b3"
      },
      "execution_count": null,
      "outputs": [
        {
          "output_type": "execute_result",
          "data": {
            "text/plain": [
              "array([[2, 2],\n",
              "       [4, 2]])"
            ]
          },
          "metadata": {},
          "execution_count": 16
        }
      ]
    },
    {
      "cell_type": "code",
      "source": [
        "non_zero=np.array(np.argwhere(arr!=0))\n",
        "non_zero"
      ],
      "metadata": {
        "colab": {
          "base_uri": "https://localhost:8080/"
        },
        "id": "5tDBnCPjKbnq",
        "outputId": "6ad11078-3097-4d67-d426-fcafad7faa08"
      },
      "execution_count": null,
      "outputs": [
        {
          "output_type": "execute_result",
          "data": {
            "text/plain": [
              "array([[0, 0],\n",
              "       [0, 1],\n",
              "       [0, 2],\n",
              "       [0, 3],\n",
              "       [1, 0],\n",
              "       [1, 1],\n",
              "       [1, 2],\n",
              "       [1, 3],\n",
              "       [2, 0],\n",
              "       [2, 1],\n",
              "       [2, 3],\n",
              "       [3, 0],\n",
              "       [3, 1],\n",
              "       [3, 2],\n",
              "       [3, 3],\n",
              "       [4, 0],\n",
              "       [4, 1],\n",
              "       [4, 3]])"
            ]
          },
          "metadata": {},
          "execution_count": 17
        }
      ]
    },
    {
      "cell_type": "code",
      "source": [
        "nan_val=np.array(np.argwhere(arr=='NaN'))\n",
        "nan_val"
      ],
      "metadata": {
        "colab": {
          "base_uri": "https://localhost:8080/"
        },
        "id": "DM3dWBgzKfN3",
        "outputId": "53f9f997-7d2a-49c5-d811-d150278ce174"
      },
      "execution_count": null,
      "outputs": [
        {
          "output_type": "stream",
          "name": "stderr",
          "text": [
            "/usr/local/lib/python3.7/dist-packages/ipykernel_launcher.py:1: FutureWarning: elementwise comparison failed; returning scalar instead, but in the future will perform elementwise comparison\n",
            "  \"\"\"Entry point for launching an IPython kernel.\n"
          ]
        },
        {
          "output_type": "execute_result",
          "data": {
            "text/plain": [
              "array([], shape=(0, 0), dtype=int64)"
            ]
          },
          "metadata": {},
          "execution_count": 19
        }
      ]
    },
    {
      "cell_type": "code",
      "source": [],
      "metadata": {
        "id": "uC-mV9S3K3g2"
      },
      "execution_count": null,
      "outputs": []
    }
  ]
}